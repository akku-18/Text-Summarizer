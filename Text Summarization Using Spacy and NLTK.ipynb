{
 "cells": [
  {
   "cell_type": "code",
   "execution_count": 1,
   "id": "014ada73",
   "metadata": {},
   "outputs": [],
   "source": [
    "text = \"\"\"\n",
    "Artificial Intelligence (AI) is a rapidly growing field of technology. \n",
    "It has applications in healthcare, finance, transportation, and many more sectors. \n",
    "AI-powered systems can perform tasks that usually require human intelligence, such as visual perception, speech recognition, decision-making, and language translation. \n",
    "AI is expected to create significant disruptions in many industries, leading to both challenges and opportunities.\n",
    "Researchers are working on improving AI algorithms to make them more efficient and reliable.\n",
    "\"\"\"\n"
   ]
  },
  {
   "cell_type": "code",
   "execution_count": 2,
   "id": "f9d506a9",
   "metadata": {},
   "outputs": [],
   "source": [
    "# Tokenize"
   ]
  },
  {
   "cell_type": "code",
   "execution_count": 3,
   "id": "cfdf1a1e",
   "metadata": {},
   "outputs": [
    {
     "data": {
      "text/plain": [
       "['\\nArtificial Intelligence (AI) is a rapidly growing field of technology',\n",
       " ' \\nIt has applications in healthcare, finance, transportation, and many more sectors',\n",
       " ' \\nAI-powered systems can perform tasks that usually require human intelligence, such as visual perception, speech recognition, decision-making, and language translation',\n",
       " ' \\nAI is expected to create significant disruptions in many industries, leading to both challenges and opportunities',\n",
       " '\\nResearchers are working on improving AI algorithms to make them more efficient and reliable',\n",
       " '\\n']"
      ]
     },
     "execution_count": 3,
     "metadata": {},
     "output_type": "execute_result"
    }
   ],
   "source": [
    "sentences = text.split('.')\n",
    "sentences"
   ]
  },
  {
   "cell_type": "code",
   "execution_count": 5,
   "id": "09e2342b",
   "metadata": {},
   "outputs": [
    {
     "data": {
      "text/plain": [
       "['Artificial Intelligence (AI) is a rapidly growing field of technology',\n",
       " 'It has applications in healthcare, finance, transportation, and many more sectors',\n",
       " 'AI-powered systems can perform tasks that usually require human intelligence, such as visual perception, speech recognition, decision-making, and language translation',\n",
       " 'AI is expected to create significant disruptions in many industries, leading to both challenges and opportunities',\n",
       " 'Researchers are working on improving AI algorithms to make them more efficient and reliable']"
      ]
     },
     "execution_count": 5,
     "metadata": {},
     "output_type": "execute_result"
    }
   ],
   "source": [
    "sentences = [ sentence.strip() for sentence in sentences if sentence]\n",
    "sentences"
   ]
  },
  {
   "cell_type": "code",
   "execution_count": 12,
   "id": "387a4101",
   "metadata": {},
   "outputs": [
    {
     "name": "stdout",
     "output_type": "stream",
     "text": [
      "True\n"
     ]
    }
   ],
   "source": [
    "\n",
    "ad = \"hello\"\n",
    "\n",
    "print(ad.isalnum())\n",
    "# Checks if a struing is alphanumeric or not"
   ]
  },
  {
   "cell_type": "code",
   "execution_count": 7,
   "id": "4bafc286",
   "metadata": {},
   "outputs": [
    {
     "name": "stdout",
     "output_type": "stream",
     "text": [
      "True\n"
     ]
    }
   ],
   "source": [
    "def tokenize(sentence):\n",
    "    for char in sentence:\n",
    "        \n",
    "            "
   ]
  },
  {
   "cell_type": "code",
   "execution_count": 15,
   "id": "b52227c2",
   "metadata": {},
   "outputs": [
    {
     "name": "stdout",
     "output_type": "stream",
     "text": [
      "A\n",
      "r\n",
      "t\n",
      "i\n",
      "f\n",
      "i\n",
      "c\n",
      "i\n",
      "a\n",
      "l\n",
      " \n",
      "I\n",
      "n\n",
      "t\n",
      "e\n",
      "l\n",
      "l\n",
      "i\n",
      "g\n",
      "e\n",
      "n\n",
      "c\n",
      "e\n",
      " \n",
      "(\n",
      "A\n",
      "I\n",
      ")\n",
      " \n",
      "i\n",
      "s\n",
      " \n",
      "a\n",
      " \n",
      "r\n",
      "a\n",
      "p\n",
      "i\n",
      "d\n",
      "l\n",
      "y\n",
      " \n",
      "g\n",
      "r\n",
      "o\n",
      "w\n",
      "i\n",
      "n\n",
      "g\n",
      " \n",
      "f\n",
      "i\n",
      "e\n",
      "l\n",
      "d\n",
      " \n",
      "o\n",
      "f\n",
      " \n",
      "t\n",
      "e\n",
      "c\n",
      "h\n",
      "n\n",
      "o\n",
      "l\n",
      "o\n",
      "g\n",
      "y\n"
     ]
    }
   ],
   "source": [
    "for char in sentences[0]:\n",
    "    print(char)"
   ]
  },
  {
   "cell_type": "code",
   "execution_count": null,
   "id": "d430c0d6",
   "metadata": {},
   "outputs": [],
   "source": [
    "        sdfgsfgsfgxvbxcvsdfghdbzccbnxcv cgjgujcvbfh"
   ]
  }
 ],
 "metadata": {
  "kernelspec": {
   "display_name": "Python 3 (ipykernel)",
   "language": "python",
   "name": "python3"
  },
  "language_info": {
   "codemirror_mode": {
    "name": "ipython",
    "version": 3
   },
   "file_extension": ".py",
   "mimetype": "text/x-python",
   "name": "python",
   "nbconvert_exporter": "python",
   "pygments_lexer": "ipython3",
   "version": "3.10.9"
  }
 },
 "nbformat": 4,
 "nbformat_minor": 5
}
