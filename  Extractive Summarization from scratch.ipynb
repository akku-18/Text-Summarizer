{
 "cells": [
  {
   "cell_type": "code",
   "execution_count": 2,
   "id": "014ada73",
   "metadata": {},
   "outputs": [],
   "source": [
    "text = \"\"\"\n",
    "Artificial Intelligence (AI) is a rapidly growing field of technology. \n",
    "It has applications in healthcare, finance, transportation, and many more sectors. \n",
    "AI-powered systems can perform tasks that usually require human intelligence, such as visual perception, speech recognition, decision-making, and language translation. \n",
    "AI is expected to create significant disruptions in many industries, leading to both challenges and opportunities.\n",
    "Researchers are working on improving AI algorithms to make them more efficient and reliable.\n",
    "\"\"\"\n"
   ]
  },
  {
   "cell_type": "code",
   "execution_count": 3,
   "id": "f9d506a9",
   "metadata": {},
   "outputs": [],
   "source": [
    "# Tokenize"
   ]
  },
  {
   "cell_type": "code",
   "execution_count": 4,
   "id": "cfdf1a1e",
   "metadata": {},
   "outputs": [
    {
     "data": {
      "text/plain": [
       "['\\nArtificial Intelligence (AI) is a rapidly growing field of technology',\n",
       " ' \\nIt has applications in healthcare, finance, transportation, and many more sectors',\n",
       " ' \\nAI-powered systems can perform tasks that usually require human intelligence, such as visual perception, speech recognition, decision-making, and language translation',\n",
       " ' \\nAI is expected to create significant disruptions in many industries, leading to both challenges and opportunities',\n",
       " '\\nResearchers are working on improving AI algorithms to make them more efficient and reliable',\n",
       " '\\n']"
      ]
     },
     "execution_count": 4,
     "metadata": {},
     "output_type": "execute_result"
    }
   ],
   "source": [
    "sentences = text.split('.')\n",
    "sentences"
   ]
  },
  {
   "cell_type": "code",
   "execution_count": 5,
   "id": "09e2342b",
   "metadata": {},
   "outputs": [
    {
     "data": {
      "text/plain": [
       "['Artificial Intelligence (AI) is a rapidly growing field of technology',\n",
       " 'It has applications in healthcare, finance, transportation, and many more sectors',\n",
       " 'AI-powered systems can perform tasks that usually require human intelligence, such as visual perception, speech recognition, decision-making, and language translation',\n",
       " 'AI is expected to create significant disruptions in many industries, leading to both challenges and opportunities',\n",
       " 'Researchers are working on improving AI algorithms to make them more efficient and reliable',\n",
       " '']"
      ]
     },
     "execution_count": 5,
     "metadata": {},
     "output_type": "execute_result"
    }
   ],
   "source": [
    "sentences = [ sentence.strip() for sentence in sentences if sentence]\n",
    "sentences"
   ]
  },
  {
   "cell_type": "code",
   "execution_count": 9,
   "id": "387a4101",
   "metadata": {},
   "outputs": [
    {
     "name": "stdout",
     "output_type": "stream",
     "text": [
      "False\n"
     ]
    }
   ],
   "source": [
    "\n",
    "ad = \" \"\n",
    "\n",
    "print(ad.isalnum())\n",
    "# Checks if a struing is alphanumeric or not"
   ]
  },
  {
   "cell_type": "code",
   "execution_count": 15,
   "id": "b52227c2",
   "metadata": {},
   "outputs": [],
   "source": [
    "def tokenize(sentence):\n",
    "    words = []\n",
    "    word = \"\"\n",
    "    for char in sentence:\n",
    "        if char.isalnum():\n",
    "            word += char\n",
    "        else:\n",
    "            if word:\n",
    "                words.append(word)\n",
    "                word = \"\"\n",
    "\n",
    "    if word:\n",
    "        words.append(word)\n",
    "    return words"
   ]
  },
  {
   "cell_type": "code",
   "execution_count": 16,
   "id": "d430c0d6",
   "metadata": {},
   "outputs": [
    {
     "data": {
      "text/plain": [
       "['Artificial',\n",
       " 'Intelligence',\n",
       " 'AI',\n",
       " 'is',\n",
       " 'a',\n",
       " 'rapidly',\n",
       " 'growing',\n",
       " 'field',\n",
       " 'of',\n",
       " 'technology']"
      ]
     },
     "execution_count": 16,
     "metadata": {},
     "output_type": "execute_result"
    }
   ],
   "source": [
    "tokenize(sentences[0])"
   ]
  },
  {
   "cell_type": "code",
   "execution_count": 26,
   "id": "353046d9",
   "metadata": {},
   "outputs": [
    {
     "data": {
      "text/plain": [
       "{'Artificial': 1,\n",
       " 'Intelligence': 1,\n",
       " 'AI': 4,\n",
       " 'rapidly': 1,\n",
       " 'growing': 1,\n",
       " 'field': 1,\n",
       " 'technology': 1,\n",
       " 'It': 1,\n",
       " 'applications': 1,\n",
       " 'healthcare': 1,\n",
       " 'finance': 1,\n",
       " 'transportation': 1,\n",
       " 'many': 2,\n",
       " 'more': 2,\n",
       " 'sectors': 1,\n",
       " 'powered': 1,\n",
       " 'systems': 1,\n",
       " 'can': 1,\n",
       " 'perform': 1,\n",
       " 'tasks': 1,\n",
       " 'usually': 1,\n",
       " 'require': 1,\n",
       " 'human': 1,\n",
       " 'intelligence': 1,\n",
       " 'visual': 1,\n",
       " 'perception': 1,\n",
       " 'speech': 1,\n",
       " 'recognition': 1,\n",
       " 'decision': 1,\n",
       " 'making': 1,\n",
       " 'language': 1,\n",
       " 'translation': 1,\n",
       " 'expected': 1,\n",
       " 'create': 1,\n",
       " 'significant': 1,\n",
       " 'disruptions': 1,\n",
       " 'industries': 1,\n",
       " 'leading': 1,\n",
       " 'both': 1,\n",
       " 'challenges': 1,\n",
       " 'opportunities': 1,\n",
       " 'Researchers': 1,\n",
       " 'working': 1,\n",
       " 'improving': 1,\n",
       " 'algorithms': 1,\n",
       " 'make': 1,\n",
       " 'them': 1,\n",
       " 'efficient': 1,\n",
       " 'reliable': 1}"
      ]
     },
     "execution_count": 26,
     "metadata": {},
     "output_type": "execute_result"
    }
   ],
   "source": [
    "# define stop words\n",
    "\n",
    "stop_words = {\n",
    "    \"is\", \"a\", \"the\", \"of\", \"in\", \"on\", \"and\", \"to\", \"has\", \"that\", \"it\", \"as\", \"are\", \"for\", \"such\"\n",
    "}\n",
    "\n",
    "# Create word frequence dict\n",
    "word_freq = {}\n",
    "\n",
    "for sent in sentences:\n",
    "    words = tokenize(sent)\n",
    "    for word in words:\n",
    "        if word not in stop_words:\n",
    "            word_freq[word] = word_freq.get(word, 0) + 1\n",
    "\n",
    "word_freq"
   ]
  },
  {
   "cell_type": "code",
   "execution_count": 29,
   "id": "ab698f3f",
   "metadata": {},
   "outputs": [
    {
     "name": "stdout",
     "output_type": "stream",
     "text": [
      "Word Frequency Table: {'Artificial': 0.25, 'Intelligence': 0.25, 'AI': 1.0, 'rapidly': 0.25, 'growing': 0.25, 'field': 0.25, 'technology': 0.25, 'It': 0.25, 'applications': 0.25, 'healthcare': 0.25, 'finance': 0.25, 'transportation': 0.25, 'many': 0.5, 'more': 0.5, 'sectors': 0.25, 'powered': 0.25, 'systems': 0.25, 'can': 0.25, 'perform': 0.25, 'tasks': 0.25, 'usually': 0.25, 'require': 0.25, 'human': 0.25, 'intelligence': 0.25, 'visual': 0.25, 'perception': 0.25, 'speech': 0.25, 'recognition': 0.25, 'decision': 0.25, 'making': 0.25, 'language': 0.25, 'translation': 0.25, 'expected': 0.25, 'create': 0.25, 'significant': 0.25, 'disruptions': 0.25, 'industries': 0.25, 'leading': 0.25, 'both': 0.25, 'challenges': 0.25, 'opportunities': 0.25, 'Researchers': 0.25, 'working': 0.25, 'improving': 0.25, 'algorithms': 0.25, 'make': 0.25, 'them': 0.25, 'efficient': 0.25, 'reliable': 0.25}\n"
     ]
    }
   ],
   "source": [
    "# Normalize word frequencies\n",
    "\n",
    "max_freq = max(word_freq.values())\n",
    "for word in word_freq:\n",
    "    word_freq[word] /= max_freq\n",
    "\n",
    "print(\"Word Frequency Table:\", word_freq)\n"
   ]
  },
  {
   "cell_type": "code",
   "execution_count": 32,
   "id": "9d86d6d4",
   "metadata": {},
   "outputs": [
    {
     "data": {
      "text/plain": [
       "['Artificial Intelligence (AI) is a rapidly growing field of technology',\n",
       " 'It has applications in healthcare, finance, transportation, and many more sectors',\n",
       " 'AI-powered systems can perform tasks that usually require human intelligence, such as visual perception, speech recognition, decision-making, and language translation',\n",
       " 'AI is expected to create significant disruptions in many industries, leading to both challenges and opportunities',\n",
       " 'Researchers are working on improving AI algorithms to make them more efficient and reliable',\n",
       " '']"
      ]
     },
     "execution_count": 32,
     "metadata": {},
     "output_type": "execute_result"
    }
   ],
   "source": [
    "sentences"
   ]
  },
  {
   "cell_type": "code",
   "execution_count": 37,
   "id": "8bf2ac34",
   "metadata": {},
   "outputs": [
    {
     "name": "stdout",
     "output_type": "stream",
     "text": [
      "0.25\n"
     ]
    }
   ],
   "source": [
    "if 'Artificial' in word_freq:\n",
    "    print(word_freq['Artificial'])"
   ]
  },
  {
   "cell_type": "code",
   "execution_count": 46,
   "id": "e3686b7f",
   "metadata": {},
   "outputs": [
    {
     "name": "stdout",
     "output_type": "stream",
     "text": [
      "Sentence Scores {'Artificial Intelligence (AI) is a rapidly growing field of technology': 2.5, 'It has applications in healthcare, finance, transportation, and many more sectors': 2.5, 'AI-powered systems can perform tasks that usually require human intelligence, such as visual perception, speech recognition, decision-making, and language translation': 5.25, 'AI is expected to create significant disruptions in many industries, leading to both challenges and opportunities': 3.75, 'Researchers are working on improving AI algorithms to make them more efficient and reliable': 3.5, '': 0}\n"
     ]
    }
   ],
   "source": [
    "# Score sentences\n",
    "sentence_scores = {}\n",
    "for sentence in sentences:\n",
    "    words = tokenize(sentence)\n",
    "    sentence_score = 0\n",
    "    for word in words:\n",
    "        if word in word_freq:\n",
    "            sentence_score += word_freq[word]\n",
    "    sentence_scores[sentence] = sentence_score\n",
    "\n",
    "print(\"Sentence Scores\", sentence_scores)"
   ]
  },
  {
   "cell_type": "code",
   "execution_count": 59,
   "id": "21edd4be",
   "metadata": {},
   "outputs": [],
   "source": [
    "# Rank sentences\n",
    "# Select top N sentences\n",
    "def get_top_sentences(sentences_scores, n):\n",
    "    ranked_sentences = sorted(sentences_scores.items(), key=lambda item:item[1], reverse=True)\n",
    "    return [sentence[0] for sentence in ranked_sentences[:n]]"
   ]
  },
  {
   "cell_type": "code",
   "execution_count": 60,
   "id": "ccdef13a",
   "metadata": {},
   "outputs": [
    {
     "data": {
      "text/plain": [
       "['AI-powered systems can perform tasks that usually require human intelligence, such as visual perception, speech recognition, decision-making, and language translation',\n",
       " 'AI is expected to create significant disruptions in many industries, leading to both challenges and opportunities']"
      ]
     },
     "execution_count": 60,
     "metadata": {},
     "output_type": "execute_result"
    }
   ],
   "source": [
    "# Generate summary\n",
    "summary_sentences = get_top_sentences(sentence_scores, n=2)\n",
    "summary_sentences"
   ]
  },
  {
   "cell_type": "code",
   "execution_count": null,
   "id": "7fb5671e",
   "metadata": {},
   "outputs": [],
   "source": [
    "sum"
   ]
  }
 ],
 "metadata": {
  "kernelspec": {
   "display_name": "Python 3 (ipykernel)",
   "language": "python",
   "name": "python3"
  },
  "language_info": {
   "codemirror_mode": {
    "name": "ipython",
    "version": 3
   },
   "file_extension": ".py",
   "mimetype": "text/x-python",
   "name": "python",
   "nbconvert_exporter": "python",
   "pygments_lexer": "ipython3",
   "version": "3.10.9"
  }
 },
 "nbformat": 4,
 "nbformat_minor": 5
}
